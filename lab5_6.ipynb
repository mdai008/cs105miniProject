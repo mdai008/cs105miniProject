{
 "cells": [
  {
   "cell_type": "markdown",
   "id": "ff8c4caf",
   "metadata": {},
   "source": [
    "**TOPIC: Study the relationship between social media platforms and music tastes**<br>\n",
    "**Questions**<br>\n",
    "**1. What data do you have?**<br>\n",
    "We have data of the age, gender, daily music consumption, preferred social media platform, music genre, occasion, and preferred music platform of our participants.<br><br>\n",
    "**2. What would you like to know?**<br>\n",
    "Is there a correlation between certain social media platforms and music genres? Among those who do a certain chore, what are their favorite music genres and music platform? Can social media platforms be used to predict daily music consumption?<br><br>\n",
    "**3. Explore the data.**<br>\n",
    "Generate statistics and perform visualizations. Explain what you are computing (mean, SD, ...), and then\n",
    "compute using Python. Create some visualizations (at least 8, and at least 6\n",
    "must be of different types); use Python.<br><br>\n",
    "**4. Can you state any hypotheses or make predictions? Which tests can you apply to\n",
    "verify your hypothesis? State clearly each of your hypotheses (at least 3).**<br>\n",
    "answer<br><br>\n",
    "**5. Test your hypotheses.**<br>\n",
    "Test your hypotheses and predictions (use at least 2 different\n",
    "tests). For each: i) describe the test you are using; ii) perform it; iii) analyze\n",
    "the results and draw the conclusion. You must perform correlation analysis and chi-squared test.\n"
   ]
  },
  {
   "cell_type": "code",
   "execution_count": 1,
   "id": "2d707c4f",
   "metadata": {},
   "outputs": [],
   "source": [
    "import pandas as pd\n",
    "import matplotlib.pyplot as plt\n",
    "import numpy as np\n",
    "import seaborn as sns\n",
    "import waterfall_chart as wfc\n",
    "from scipy.stats import chi2_contingency\n",
    "from scipy.stats import chi2\n",
    "\n",
    "df = pd.read_csv(\"CS105 W23 Survey Responses - Form Responses 1.csv\")\n",
    "# df.head()\n",
    "\n",
    "#data cleansing\n",
    "#columns numbers to keep: \n",
    "#1. How old are you?\n",
    "#68. Which social media platforms do you use most often?\n",
    "#69. What is your favorite genre of music?\n",
    "#71. Which music streaming service do you use the most?\n",
    "#62. On average, how many hours do you listen to music per day?\n",
    "#70. In which of the following situations do you listen to music?\n",
    "\n",
    "# #create empty dataframe\n",
    "# df2 = pd.DataFrame()\n",
    "# #append columns\n",
    "# col1 = df[\"1. How old are you?\"]\n",
    "# col68 = df[\"68. Which social media platforms do you use most often?\"] \n",
    "# col69 = df[\"69. What is your favorite genre of music?\"]\n",
    "# col71 = df[\"71. Which music streaming service do you use the most?\"]\n",
    "# col62 = df[\"62. On average, how many hours do you listen to music per day?\"]\n",
    "# col70 = df[\"70. In which of the following situations do you listen to music?\"]\n",
    "\n",
    "# df2.insert(0, \"1. How old are you?\", col1)\n",
    "# df2 = df2.join(col68)\n",
    "# df2 = df2.join(col69)\n",
    "# df2 = df2.join(col71)\n",
    "# df2 = df2.join(col62)\n",
    "# df2 = df2.join(col70)\n",
    "\n",
    "# df2\n",
    "\n",
    "#remove outliers, fill/remove corrupt/empty values"
   ]
  },
  {
   "cell_type": "code",
   "execution_count": 2,
   "id": "48a134b1",
   "metadata": {},
   "outputs": [
    {
     "data": {
      "text/html": [
       "<div>\n",
       "<style scoped>\n",
       "    .dataframe tbody tr th:only-of-type {\n",
       "        vertical-align: middle;\n",
       "    }\n",
       "\n",
       "    .dataframe tbody tr th {\n",
       "        vertical-align: top;\n",
       "    }\n",
       "\n",
       "    .dataframe thead th {\n",
       "        text-align: right;\n",
       "    }\n",
       "</style>\n",
       "<table border=\"1\" class=\"dataframe\">\n",
       "  <thead>\n",
       "    <tr style=\"text-align: right;\">\n",
       "      <th></th>\n",
       "      <th>Age</th>\n",
       "      <th>Gender</th>\n",
       "      <th>Daily Music Consumption</th>\n",
       "      <th>Preferred Social Media Platform</th>\n",
       "      <th>Music Genre</th>\n",
       "      <th>Occasion</th>\n",
       "      <th>Preferred Music Platform</th>\n",
       "    </tr>\n",
       "  </thead>\n",
       "  <tbody>\n",
       "    <tr>\n",
       "      <th>0</th>\n",
       "      <td>21</td>\n",
       "      <td>Man</td>\n",
       "      <td>4.0</td>\n",
       "      <td>Reddit, Twitter, Youtube</td>\n",
       "      <td>Hip Hop / Rap</td>\n",
       "      <td>Doing chores, Driving, Eating, Exercising, Rel...</td>\n",
       "      <td>Spotify</td>\n",
       "    </tr>\n",
       "    <tr>\n",
       "      <th>1</th>\n",
       "      <td>21</td>\n",
       "      <td>Woman</td>\n",
       "      <td>4.0</td>\n",
       "      <td>Instagram, Youtube</td>\n",
       "      <td>Rock</td>\n",
       "      <td>Relaxing, Studying / Doing homework</td>\n",
       "      <td>Spotify</td>\n",
       "    </tr>\n",
       "    <tr>\n",
       "      <th>2</th>\n",
       "      <td>22</td>\n",
       "      <td>Man</td>\n",
       "      <td>2.0</td>\n",
       "      <td>Reddit, TikTok, Youtube</td>\n",
       "      <td>Anime / Jpop</td>\n",
       "      <td>Driving, Exercising, Studying / Doing homework</td>\n",
       "      <td>Spotify</td>\n",
       "    </tr>\n",
       "    <tr>\n",
       "      <th>3</th>\n",
       "      <td>20</td>\n",
       "      <td>Woman</td>\n",
       "      <td>1.0</td>\n",
       "      <td>Instagram, Reddit, TikTok</td>\n",
       "      <td>Pop</td>\n",
       "      <td>Doing chores, Driving</td>\n",
       "      <td>Spotify</td>\n",
       "    </tr>\n",
       "    <tr>\n",
       "      <th>4</th>\n",
       "      <td>21</td>\n",
       "      <td>Man</td>\n",
       "      <td>2.0</td>\n",
       "      <td>Reddit, Youtube</td>\n",
       "      <td>Pop</td>\n",
       "      <td>Doing chores, Exercising, Studying / Doing hom...</td>\n",
       "      <td>Spotify</td>\n",
       "    </tr>\n",
       "    <tr>\n",
       "      <th>...</th>\n",
       "      <td>...</td>\n",
       "      <td>...</td>\n",
       "      <td>...</td>\n",
       "      <td>...</td>\n",
       "      <td>...</td>\n",
       "      <td>...</td>\n",
       "      <td>...</td>\n",
       "    </tr>\n",
       "    <tr>\n",
       "      <th>219</th>\n",
       "      <td>21</td>\n",
       "      <td>Woman</td>\n",
       "      <td>4.0</td>\n",
       "      <td>Instagram, TikTok, Twitter</td>\n",
       "      <td>Indie / Alternative</td>\n",
       "      <td>Doing chores, Driving, Studying / Doing homework</td>\n",
       "      <td>Spotify</td>\n",
       "    </tr>\n",
       "    <tr>\n",
       "      <th>220</th>\n",
       "      <td>20</td>\n",
       "      <td>Man</td>\n",
       "      <td>2.0</td>\n",
       "      <td>NaN</td>\n",
       "      <td>Salsa music</td>\n",
       "      <td>Relaxing</td>\n",
       "      <td>Spotify</td>\n",
       "    </tr>\n",
       "    <tr>\n",
       "      <th>221</th>\n",
       "      <td>20</td>\n",
       "      <td>Man</td>\n",
       "      <td>20.0</td>\n",
       "      <td>Instagram, Snapchat, TikTok</td>\n",
       "      <td>Hip Hop / Rap</td>\n",
       "      <td>Driving, Eating, Exercising, Relaxing, Studyin...</td>\n",
       "      <td>Spotify</td>\n",
       "    </tr>\n",
       "    <tr>\n",
       "      <th>222</th>\n",
       "      <td>20</td>\n",
       "      <td>Woman</td>\n",
       "      <td>4.0</td>\n",
       "      <td>Instagram, TikTok, Twitter</td>\n",
       "      <td>Indie / Alternative</td>\n",
       "      <td>Doing chores, Driving, Eating, Exercising, Rel...</td>\n",
       "      <td>Spotify</td>\n",
       "    </tr>\n",
       "    <tr>\n",
       "      <th>223</th>\n",
       "      <td>22</td>\n",
       "      <td>Man</td>\n",
       "      <td>13.0</td>\n",
       "      <td>Instagram, Youtube</td>\n",
       "      <td>Pop</td>\n",
       "      <td>Doing chores, Driving, Exercising, Relaxing, S...</td>\n",
       "      <td>Spotify</td>\n",
       "    </tr>\n",
       "  </tbody>\n",
       "</table>\n",
       "<p>224 rows × 7 columns</p>\n",
       "</div>"
      ],
      "text/plain": [
       "     Age Gender  Daily Music Consumption Preferred Social Media Platform  \\\n",
       "0     21    Man                      4.0        Reddit, Twitter, Youtube   \n",
       "1     21  Woman                      4.0              Instagram, Youtube   \n",
       "2     22    Man                      2.0         Reddit, TikTok, Youtube   \n",
       "3     20  Woman                      1.0       Instagram, Reddit, TikTok   \n",
       "4     21    Man                      2.0                 Reddit, Youtube   \n",
       "..   ...    ...                      ...                             ...   \n",
       "219   21  Woman                      4.0      Instagram, TikTok, Twitter   \n",
       "220   20    Man                      2.0                             NaN   \n",
       "221   20    Man                     20.0     Instagram, Snapchat, TikTok   \n",
       "222   20  Woman                      4.0      Instagram, TikTok, Twitter   \n",
       "223   22    Man                     13.0              Instagram, Youtube   \n",
       "\n",
       "             Music Genre                                           Occasion  \\\n",
       "0          Hip Hop / Rap  Doing chores, Driving, Eating, Exercising, Rel...   \n",
       "1                   Rock                Relaxing, Studying / Doing homework   \n",
       "2           Anime / Jpop     Driving, Exercising, Studying / Doing homework   \n",
       "3                    Pop                              Doing chores, Driving   \n",
       "4                    Pop  Doing chores, Exercising, Studying / Doing hom...   \n",
       "..                   ...                                                ...   \n",
       "219  Indie / Alternative   Doing chores, Driving, Studying / Doing homework   \n",
       "220          Salsa music                                           Relaxing   \n",
       "221        Hip Hop / Rap  Driving, Eating, Exercising, Relaxing, Studyin...   \n",
       "222  Indie / Alternative  Doing chores, Driving, Eating, Exercising, Rel...   \n",
       "223                  Pop  Doing chores, Driving, Exercising, Relaxing, S...   \n",
       "\n",
       "    Preferred Music Platform  \n",
       "0                    Spotify  \n",
       "1                    Spotify  \n",
       "2                    Spotify  \n",
       "3                    Spotify  \n",
       "4                    Spotify  \n",
       "..                       ...  \n",
       "219                  Spotify  \n",
       "220                  Spotify  \n",
       "221                  Spotify  \n",
       "222                  Spotify  \n",
       "223                  Spotify  \n",
       "\n",
       "[224 rows x 7 columns]"
      ]
     },
     "execution_count": 2,
     "metadata": {},
     "output_type": "execute_result"
    }
   ],
   "source": [
    "#create new table\n",
    "df2 = df[['1. How old are you?',\n",
    "          '2. To which gender identity do you most identify?',\n",
    "          '62. On average, how many hours do you listen to music per day?', \n",
    "          '68. Which social media platforms do you use most often?', \n",
    "          '69. What is your favorite genre of music?', \n",
    "          '70. In which of the following situations do you listen to music?', \n",
    "          '71. Which music streaming service do you use the most?']]\n",
    "\n",
    "#rename columns\n",
    "df2 = df2.rename(columns={'1. How old are you?': 'Age', \n",
    "                          '2. To which gender identity do you most identify?': 'Gender', \n",
    "                          '62. On average, how many hours do you listen to music per day?': 'Daily Music Consumption', \n",
    "                          '68. Which social media platforms do you use most often?': 'Preferred Social Media Platform', \n",
    "                          '69. What is your favorite genre of music?': 'Music Genre', \n",
    "                          '70. In which of the following situations do you listen to music?': 'Occasion', \n",
    "                          '71. Which music streaming service do you use the most?': 'Preferred Music Platform'})\n",
    "\n",
    "df2"
   ]
  },
  {
   "cell_type": "code",
   "execution_count": 3,
   "id": "d1a81370",
   "metadata": {
    "scrolled": false
   },
   "outputs": [],
   "source": [
    "#preliminary data\n",
    "# display(df2.groupby(\"Preferred Social Media Platform\")[\"Age\"].count())\n"
   ]
  },
  {
   "cell_type": "code",
   "execution_count": 4,
   "id": "b6cbac72",
   "metadata": {},
   "outputs": [
    {
     "data": {
      "text/plain": [
       "Music Genre\n",
       "Anime / Jpop                                                        19\n",
       "Bladee                                                               1\n",
       "Breakcore                                                            1\n",
       "Classical                                                            6\n",
       "Electronic                                                          18\n",
       "Funk                                                                 1\n",
       "Hip Hop / Rap                                                       49\n",
       "House                                                                1\n",
       "I have no favorite                                                   1\n",
       "Indie / Alternative                                                 32\n",
       "Kpop                                                                10\n",
       "Lofi                                                                 1\n",
       "Metal                                                                4\n",
       "Most genres like anime, jpop, edm, hip hop, kpop, pop, r&b, lofi     1\n",
       "Musical Theater                                                      1\n",
       "No preference                                                        1\n",
       "Phonk                                                                1\n",
       "Pop                                                                 31\n",
       "R&B / Soul / Blues                                                  18\n",
       "Rock                                                                11\n",
       "Salsa music                                                          1\n",
       "Soundtrack                                                           1\n",
       "Video Game                                                           1\n",
       "any, whatever sounds good to my ear                                  1\n",
       "electronic pop                                                       1\n",
       "idk                                                                  1\n",
       "indie pop                                                            1\n",
       "multi                                                                1\n",
       "Name: Age, dtype: int64"
      ]
     },
     "metadata": {},
     "output_type": "display_data"
    }
   ],
   "source": [
    "display(df2.groupby(\"Music Genre\")[\"Age\"].count())\n"
   ]
  },
  {
   "cell_type": "code",
   "execution_count": 5,
   "id": "51ee1600",
   "metadata": {},
   "outputs": [],
   "source": [
    "# display(df2.groupby(\"Occasion\")[\"Age\"].count())\n"
   ]
  },
  {
   "cell_type": "code",
   "execution_count": 6,
   "id": "4e48d7db",
   "metadata": {},
   "outputs": [],
   "source": [
    "# display(df2.groupby(\"Preferred Music Platform\")[\"Age\"].count())\n"
   ]
  },
  {
   "cell_type": "code",
   "execution_count": 7,
   "id": "b7a756db",
   "metadata": {},
   "outputs": [
    {
     "data": {
      "text/plain": [
       "Gender\n",
       "Man                      169\n",
       "Non-binary                 2\n",
       "Prefer not to respond      2\n",
       "Woman                     49\n",
       "Name: Age, dtype: int64"
      ]
     },
     "metadata": {},
     "output_type": "display_data"
    }
   ],
   "source": [
    "display(df2.groupby(\"Gender\")[\"Age\"].count())\n"
   ]
  },
  {
   "cell_type": "code",
   "execution_count": 8,
   "id": "552d4a6b",
   "metadata": {},
   "outputs": [],
   "source": [
    "# display(df2.groupby(\"Daily Music Consumption\")[\"Age\"].count())"
   ]
  },
  {
   "cell_type": "code",
   "execution_count": 9,
   "id": "a5959aaf",
   "metadata": {},
   "outputs": [
    {
     "data": {
      "text/plain": [
       "Music Genre\n",
       "Anime / Jpop           20\n",
       "Classical               6\n",
       "Electronic             22\n",
       "Hip Hop / Rap          50\n",
       "Indie / Alternative    33\n",
       "Kpop                   10\n",
       "Metal                   4\n",
       "No preference           4\n",
       "Other                   6\n",
       "Pop                    32\n",
       "R&B / Soul / Blues     18\n",
       "Rock                   11\n",
       "Name: Age, dtype: int64"
      ]
     },
     "metadata": {},
     "output_type": "display_data"
    }
   ],
   "source": [
    "#clean values, arr[0] = \"X\"\n",
    "df2.loc[df2[\"Music Genre\"] == \"Breakcore\", \"Music Genre\"] = \"Electronic\"\n",
    "df2.loc[df2[\"Music Genre\"] == \"Bladee\", \"Music Genre\"] = \"Hip Hop / Rap\"\n",
    "df2.loc[df2[\"Music Genre\"] == \"Funk\", \"Music Genre\"] = \"Pop\"\n",
    "df2.loc[df2[\"Music Genre\"] == \"House\", \"Music Genre\"] = \"Electronic\"\n",
    "df2.loc[df2[\"Music Genre\"] == \"I have no favorite\", \"Music Genre\"] = \"No preference\"\n",
    "df2.loc[df2[\"Music Genre\"] == \"Lofi\", \"Music Genre\"] = \"Other\"\n",
    "df2.loc[df2[\"Music Genre\"] == \"Most genres like anime, jpop, edm, hip hop, kpop, pop, r&b, lofi\", \"Music Genre\"] = \"Anime / Jpop\"\n",
    "df2.loc[df2[\"Music Genre\"] == \"Musical Theater\", \"Music Genre\"] = \"Other\"\n",
    "df2.loc[df2[\"Music Genre\"] == \"Phonk\", \"Music Genre\"] = \"Electronic\"\n",
    "df2.loc[df2[\"Music Genre\"] == \"Salsa music\", \"Music Genre\"] = \"Other\"\n",
    "df2.loc[df2[\"Music Genre\"] == \"Soundtrack \", \"Music Genre\"] = \"Other\"\n",
    "df2.loc[df2[\"Music Genre\"] == \"Video Game\", \"Music Genre\"] = \"Other\"\n",
    "df2.loc[df2[\"Music Genre\"] == \"any, whatever sounds good to my ear\", \"Music Genre\"] = \"No preference\"\n",
    "df2.loc[df2[\"Music Genre\"] == \"electronic pop \", \"Music Genre\"] = \"Electronic\"\n",
    "df2.loc[df2[\"Music Genre\"] == \"idk\", \"Music Genre\"] = \"No preference\"\n",
    "df2.loc[df2[\"Music Genre\"] == \"indie pop\", \"Music Genre\"] = \"Indie / Alternative\"\n",
    "df2.loc[df2[\"Music Genre\"] == \"multi\", \"Music Genre\"] = \"Other\"\n",
    "\n",
    "display(df2.groupby(\"Music Genre\")[\"Age\"].count())\n"
   ]
  },
  {
   "cell_type": "code",
   "execution_count": 10,
   "id": "2b72003d",
   "metadata": {},
   "outputs": [
    {
     "data": {
      "text/plain": [
       "Gender\n",
       "Man      169\n",
       "Other      6\n",
       "Woman     49\n",
       "Name: Age, dtype: int64"
      ]
     },
     "metadata": {},
     "output_type": "display_data"
    }
   ],
   "source": [
    "df2.loc[~df2['Gender'].isin(['Man', 'Woman']), 'Gender'] = 'Other'\n",
    "\n",
    "display(df2.groupby(\"Gender\")[\"Age\"].count())"
   ]
  },
  {
   "cell_type": "code",
   "execution_count": 11,
   "id": "c48e5fc8",
   "metadata": {},
   "outputs": [
    {
     "data": {
      "text/plain": [
       "Daily Music Consumption\n",
       "0.0     12\n",
       "1.0     40\n",
       "2.0     35\n",
       "3.0     22\n",
       "4.0     34\n",
       "5.0     14\n",
       "6.0     14\n",
       "7.0      5\n",
       "8.0     13\n",
       "9.0      1\n",
       "10.0     6\n",
       "12.0     7\n",
       "13.0     1\n",
       "14.0     1\n",
       "15.0     1\n",
       "18.0     1\n",
       "20.0     3\n",
       "24.0     3\n",
       "25.0     1\n",
       "30.0     1\n",
       "40.0     1\n",
       "50.0     2\n",
       "Name: Age, dtype: int64"
      ]
     },
     "metadata": {},
     "output_type": "display_data"
    }
   ],
   "source": [
    "display(df2.groupby(\"Daily Music Consumption\")[\"Age\"].count())\n",
    "# print(df2.dtypes)"
   ]
  },
  {
   "cell_type": "code",
   "execution_count": 12,
   "id": "a2e6a365",
   "metadata": {},
   "outputs": [
    {
     "data": {
      "text/plain": [
       "Daily Music Consumption\n",
       "0-1    52\n",
       "10+    28\n",
       "2-3    57\n",
       "4-5    54\n",
       "6-7    19\n",
       "8-9    14\n",
       "Name: Age, dtype: int64"
      ]
     },
     "metadata": {},
     "output_type": "display_data"
    }
   ],
   "source": [
    "#fill nan values\n",
    "avgHours = df.loc[:, '62. On average, how many hours do you listen to music per day?'].mean()\n",
    "# display(int(avgHours))\n",
    "\n",
    "df2[\"Daily Music Consumption\"] = df2[\"Daily Music Consumption\"].fillna(int(avgHours))\n",
    "# print(df2.dtypes)\n",
    "\n",
    "df2.loc[df2['Daily Music Consumption'] > 9.0, 'Daily Music Consumption'] = 10\n",
    "\n",
    "df2[\"Daily Music Consumption\"] = df2[\"Daily Music Consumption\"].astype(str)\n",
    "df2.loc[df2['Daily Music Consumption'] == \"0.0\", 'Daily Music Consumption'] = '0-1'\n",
    "df2.loc[df2['Daily Music Consumption'] == \"1.0\", 'Daily Music Consumption'] = '0-1'\n",
    "df2.loc[df2['Daily Music Consumption'] == \"2.0\", 'Daily Music Consumption'] = '2-3'\n",
    "df2.loc[df2['Daily Music Consumption'] == \"3.0\", 'Daily Music Consumption'] = '2-3'\n",
    "df2.loc[df2['Daily Music Consumption'] == \"4.0\", 'Daily Music Consumption'] = '4-5'\n",
    "df2.loc[df2['Daily Music Consumption'] == \"5.0\", 'Daily Music Consumption'] = '4-5'\n",
    "df2.loc[df2['Daily Music Consumption'] == \"6.0\", 'Daily Music Consumption'] = '6-7'\n",
    "df2.loc[df2['Daily Music Consumption'] == \"7.0\", 'Daily Music Consumption'] = '6-7'\n",
    "df2.loc[df2['Daily Music Consumption'] == \"8.0\", 'Daily Music Consumption'] = '8-9'\n",
    "df2.loc[df2['Daily Music Consumption'] == \"9.0\", 'Daily Music Consumption'] = '8-9'\n",
    "df2.loc[df2['Daily Music Consumption'] == \"10.0\", 'Daily Music Consumption'] = '10+'\n",
    "\n",
    "\n",
    "display(df2.groupby(\"Daily Music Consumption\")[\"Age\"].count())"
   ]
  },
  {
   "cell_type": "code",
   "execution_count": 13,
   "id": "ba3ebdc5",
   "metadata": {},
   "outputs": [],
   "source": [
    "# df = df[df['Daily Music Consumption'] <= 24]\n",
    "# def categorize_hours(hours):\n",
    "#     if hours <= 2:\n",
    "#         return '0-2'\n",
    "#     elif hours <= 5:\n",
    "#         return '3-5'\n",
    "#     elif hours <= 8:\n",
    "#         return '6-8'\n",
    "#     else:\n",
    "#         return '8+'\n",
    "\n",
    "# df['Hours Cohort'] = df['Daily Music Consumption'].apply(categorize_hours)\n",
    "# df['Hours Cohort']"
   ]
  },
  {
   "cell_type": "code",
   "execution_count": 14,
   "id": "0658f2f7",
   "metadata": {},
   "outputs": [
    {
     "data": {
      "text/plain": [
       "Age\n",
       "17-18      2\n",
       "19-20    108\n",
       "21-22     71\n",
       "23-24     21\n",
       "25+       22\n",
       "Name: Gender, dtype: int64"
      ]
     },
     "metadata": {},
     "output_type": "display_data"
    }
   ],
   "source": [
    "# df2.loc[df2['Age'] < 19, 'Age'] = 18\n",
    "df2.loc[df2['Age'] > 24, 'Age'] = 25\n",
    "\n",
    "df2[\"Age\"] = df2[\"Age\"].astype(str)\n",
    "df2.loc[df2['Age'] == \"17\", 'Age'] = '17-18'\n",
    "df2.loc[df2['Age'] == \"18\", 'Age'] = '17-18'\n",
    "df2.loc[df2['Age'] == \"19\", 'Age'] = '19-20'\n",
    "df2.loc[df2['Age'] == \"20\", 'Age'] = '19-20'\n",
    "df2.loc[df2['Age'] == \"21\", 'Age'] = '21-22'\n",
    "df2.loc[df2['Age'] == \"22\", 'Age'] = '21-22'\n",
    "df2.loc[df2['Age'] == \"23\", 'Age'] = '23-24'\n",
    "df2.loc[df2['Age'] == \"24\", 'Age'] = '23-24'\n",
    "df2.loc[df2['Age'] == \"25\", 'Age'] = '25+'\n",
    "\n",
    "\n",
    "\n",
    "display(df2.groupby(\"Age\")[\"Gender\"].count())"
   ]
  },
  {
   "cell_type": "code",
   "execution_count": 15,
   "id": "a4e6c1bb",
   "metadata": {},
   "outputs": [
    {
     "data": {
      "text/plain": [
       "Preferred Social Media Platform\n",
       "BiliBili                         1\n",
       "Facebook, Instagram              1\n",
       "Facebook, Instagram, Youtube     1\n",
       "Facebook, Reddit, TikTok         1\n",
       "Facebook, Youtube                1\n",
       "Instagram                       10\n",
       "Instagram, Reddit                2\n",
       "Instagram, Reddit, Snapchat      4\n",
       "Instagram, Reddit, TikTok        4\n",
       "Instagram, Reddit, Twitter       4\n",
       "Instagram, Reddit, Youtube      16\n",
       "Instagram, Snapchat              2\n",
       "Instagram, Snapchat, TikTok     11\n",
       "Instagram, Snapchat, Twitter     4\n",
       "Instagram, Snapchat, Youtube     7\n",
       "Instagram, TikTok                6\n",
       "Instagram, TikTok, Safari        1\n",
       "Instagram, TikTok, Twitter      16\n",
       "Instagram, TikTok, Youtube      21\n",
       "Instagram, Twitch                1\n",
       "Instagram, Twitter               1\n",
       "Instagram, Twitter, Youtube      9\n",
       "Instagram, Wechat, BiliBili      1\n",
       "Instagram, Youtube              20\n",
       "Reddit                           3\n",
       "Reddit, Snapchat, TikTok         1\n",
       "Reddit, TikTok                   1\n",
       "Reddit, TikTok, Twitter          1\n",
       "Reddit, TikTok, Youtube          9\n",
       "Reddit, Twitter                  2\n",
       "Reddit, Twitter, Youtube        10\n",
       "Reddit, Youtube                  7\n",
       "Snapchat                         1\n",
       "Snapchat, TikTok, Twitter        1\n",
       "Snapchat, TikTok, Youtube        1\n",
       "Snapchat, Youtube                2\n",
       "TikTok                           2\n",
       "TikTok, Twitter                  2\n",
       "TikTok, Twitter, Youtube         4\n",
       "TikTok, Youtube                  6\n",
       "TikTok, Youtube, Twitch          1\n",
       "Twitter                          1\n",
       "Twitter, Youtube                 5\n",
       "Youtube                         12\n",
       "Youtube, Discord                 1\n",
       "Name: Age, dtype: int64"
      ]
     },
     "metadata": {},
     "output_type": "display_data"
    }
   ],
   "source": [
    "display(df2.groupby(\"Preferred Social Media Platform\")[\"Age\"].count())\n"
   ]
  },
  {
   "cell_type": "code",
   "execution_count": 17,
   "id": "9bc0da5e",
   "metadata": {},
   "outputs": [],
   "source": [
    "#count preferred social media platform numbers\n",
    "facebook = 0\n",
    "instagram = 0\n",
    "reddit = 0\n",
    "snapchat = 0\n",
    "tiktok = 0\n",
    "twitter = 0\n",
    "youtube = 0\n",
    "other = 0\n"
   ]
  },
  {
   "cell_type": "code",
   "execution_count": null,
   "id": "e9628bf4",
   "metadata": {},
   "outputs": [],
   "source": []
  }
 ],
 "metadata": {
  "colab": {
   "provenance": []
  },
  "kernelspec": {
   "display_name": "Python 3 (ipykernel)",
   "language": "python",
   "name": "python3"
  },
  "language_info": {
   "codemirror_mode": {
    "name": "ipython",
    "version": 3
   },
   "file_extension": ".py",
   "mimetype": "text/x-python",
   "name": "python",
   "nbconvert_exporter": "python",
   "pygments_lexer": "ipython3",
   "version": "3.9.7"
  }
 },
 "nbformat": 4,
 "nbformat_minor": 5
}
