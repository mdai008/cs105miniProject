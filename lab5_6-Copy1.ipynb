{
 "cells": [
  {
   "cell_type": "markdown",
   "id": "ff8c4caf",
   "metadata": {},
   "source": [
    "**TOPIC: a**<br>\n",
    "**Questions**<br>\n",
    "**1. What data do you have?**<br>\n",
    "answer<br><br>\n",
    "**2. What would you like to know?**<br>\n",
    "answer<br><br>\n",
    "**3. Explore the data.**<br>\n",
    "Generate statistics and perform visualizations. Explain what you are computing (mean, SD, ...), and then\n",
    "compute using Python. Create some visualizations (at least 8, and at least 6\n",
    "must be of different types); use Python.<br><br>\n",
    "**4. Can you state any hypotheses or make predictions? Which tests can you apply to\n",
    "verify your hypothesis? State clearly each of your hypotheses (at least 3).**<br>\n",
    "answer<br><br>\n",
    "**5. Test your hypotheses.**<br>\n",
    "Test your hypotheses and predictions (use at least 2 different\n",
    "tests). For each: i) describe the test you are using; ii) perform it; iii) analyze\n",
    "the results and draw the conclusion. You must perform correlation analysis and chi-squared test.\n"
   ]
  },
  {
   "cell_type": "code",
   "execution_count": 1,
   "id": "2d707c4f",
   "metadata": {},
   "outputs": [],
   "source": [
    "import pandas as pd\n",
    "import matplotlib.pyplot as plt\n",
    "import numpy as np\n",
    "import seaborn as sns\n",
    "from scipy.stats import chi2_contingency\n",
    "from scipy.stats import chi2\n",
    "df = pd.read_csv(\"Responses.csv\")"
   ]
  },
  {
   "cell_type": "code",
   "execution_count": 2,
   "id": "d1a81370",
   "metadata": {},
   "outputs": [
    {
     "ename": "KeyError",
     "evalue": "\"['2. To which gender identity do you most identify?'] not in index\"",
     "output_type": "error",
     "traceback": [
      "\u001b[1;31m---------------------------------------------------------------------------\u001b[0m",
      "\u001b[1;31mKeyError\u001b[0m                                  Traceback (most recent call last)",
      "Input \u001b[1;32mIn [2]\u001b[0m, in \u001b[0;36m<cell line: 1>\u001b[1;34m()\u001b[0m\n\u001b[1;32m----> 1\u001b[0m df \u001b[38;5;241m=\u001b[39m \u001b[43mdf\u001b[49m\u001b[43m[\u001b[49m\u001b[43m[\u001b[49m\u001b[38;5;124;43m'\u001b[39;49m\u001b[38;5;124;43m1. How old are you?\u001b[39;49m\u001b[38;5;124;43m'\u001b[39;49m\u001b[43m,\u001b[49m\n\u001b[0;32m      2\u001b[0m \u001b[43m         \u001b[49m\u001b[38;5;124;43m'\u001b[39;49m\u001b[38;5;124;43m2. To which gender identity do you most identify?\u001b[39;49m\u001b[38;5;124;43m'\u001b[39;49m\u001b[43m,\u001b[49m\n\u001b[0;32m      3\u001b[0m \u001b[43m         \u001b[49m\u001b[38;5;124;43m'\u001b[39;49m\u001b[38;5;124;43m62. On average, how many hours do you listen to music per day?\u001b[39;49m\u001b[38;5;124;43m'\u001b[39;49m\u001b[43m,\u001b[49m\u001b[43m \u001b[49m\n\u001b[0;32m      4\u001b[0m \u001b[43m         \u001b[49m\u001b[38;5;124;43m'\u001b[39;49m\u001b[38;5;124;43m68. Which social media platforms do you use most often?\u001b[39;49m\u001b[38;5;124;43m'\u001b[39;49m\u001b[43m,\u001b[49m\u001b[43m \u001b[49m\n\u001b[0;32m      5\u001b[0m \u001b[43m         \u001b[49m\u001b[38;5;124;43m'\u001b[39;49m\u001b[38;5;124;43m69. What is your favorite genre of music?\u001b[39;49m\u001b[38;5;124;43m'\u001b[39;49m\u001b[43m,\u001b[49m\u001b[43m \u001b[49m\n\u001b[0;32m      6\u001b[0m \u001b[43m         \u001b[49m\u001b[38;5;124;43m'\u001b[39;49m\u001b[38;5;124;43m70. In which of the following situations do you listen to music?\u001b[39;49m\u001b[38;5;124;43m'\u001b[39;49m\u001b[43m,\u001b[49m\u001b[43m \u001b[49m\n\u001b[0;32m      7\u001b[0m \u001b[43m         \u001b[49m\u001b[38;5;124;43m'\u001b[39;49m\u001b[38;5;124;43m71. Which music streaming service do you use the most?\u001b[39;49m\u001b[38;5;124;43m'\u001b[39;49m\u001b[43m]\u001b[49m\u001b[43m]\u001b[49m\n\u001b[0;32m      8\u001b[0m df \u001b[38;5;241m=\u001b[39m df\u001b[38;5;241m.\u001b[39mrename(columns\u001b[38;5;241m=\u001b[39m{\u001b[38;5;124m'\u001b[39m\u001b[38;5;124m1. How old are you?\u001b[39m\u001b[38;5;124m'\u001b[39m: \u001b[38;5;124m'\u001b[39m\u001b[38;5;124mAge\u001b[39m\u001b[38;5;124m'\u001b[39m, \n\u001b[0;32m      9\u001b[0m                         \u001b[38;5;124m'\u001b[39m\u001b[38;5;124m2. To which gender identity do you most identify?\u001b[39m\u001b[38;5;124m'\u001b[39m: \u001b[38;5;124m'\u001b[39m\u001b[38;5;124mGender\u001b[39m\u001b[38;5;124m'\u001b[39m, \n\u001b[0;32m     10\u001b[0m                         \u001b[38;5;124m'\u001b[39m\u001b[38;5;124m62. On average, how many hours do you listen to music per day?\u001b[39m\u001b[38;5;124m'\u001b[39m: \u001b[38;5;124m'\u001b[39m\u001b[38;5;124mDaily_Music_Consumption\u001b[39m\u001b[38;5;124m'\u001b[39m, \n\u001b[1;32m   (...)\u001b[0m\n\u001b[0;32m     13\u001b[0m                         \u001b[38;5;124m'\u001b[39m\u001b[38;5;124m70. In which of the following situations do you listen to music?\u001b[39m\u001b[38;5;124m'\u001b[39m: \u001b[38;5;124m'\u001b[39m\u001b[38;5;124mOccasion\u001b[39m\u001b[38;5;124m'\u001b[39m, \n\u001b[0;32m     14\u001b[0m                         \u001b[38;5;124m'\u001b[39m\u001b[38;5;124m71. Which music streaming service do you use the most?\u001b[39m\u001b[38;5;124m'\u001b[39m: \u001b[38;5;124m'\u001b[39m\u001b[38;5;124mPreferred_Music_Platform\u001b[39m\u001b[38;5;124m'\u001b[39m})\n\u001b[0;32m     15\u001b[0m df\u001b[38;5;241m.\u001b[39mloc[\u001b[38;5;241m~\u001b[39mdf[\u001b[38;5;124m'\u001b[39m\u001b[38;5;124mGender\u001b[39m\u001b[38;5;124m'\u001b[39m]\u001b[38;5;241m.\u001b[39misin([\u001b[38;5;124m'\u001b[39m\u001b[38;5;124mMan\u001b[39m\u001b[38;5;124m'\u001b[39m, \u001b[38;5;124m'\u001b[39m\u001b[38;5;124mWoman\u001b[39m\u001b[38;5;124m'\u001b[39m]), \u001b[38;5;124m'\u001b[39m\u001b[38;5;124mGender\u001b[39m\u001b[38;5;124m'\u001b[39m] \u001b[38;5;241m=\u001b[39m \u001b[38;5;124m'\u001b[39m\u001b[38;5;124mOther\u001b[39m\u001b[38;5;124m'\u001b[39m\n",
      "File \u001b[1;32m~\\anaconda3\\lib\\site-packages\\pandas\\core\\frame.py:3511\u001b[0m, in \u001b[0;36mDataFrame.__getitem__\u001b[1;34m(self, key)\u001b[0m\n\u001b[0;32m   3509\u001b[0m     \u001b[38;5;28;01mif\u001b[39;00m is_iterator(key):\n\u001b[0;32m   3510\u001b[0m         key \u001b[38;5;241m=\u001b[39m \u001b[38;5;28mlist\u001b[39m(key)\n\u001b[1;32m-> 3511\u001b[0m     indexer \u001b[38;5;241m=\u001b[39m \u001b[38;5;28;43mself\u001b[39;49m\u001b[38;5;241;43m.\u001b[39;49m\u001b[43mcolumns\u001b[49m\u001b[38;5;241;43m.\u001b[39;49m\u001b[43m_get_indexer_strict\u001b[49m\u001b[43m(\u001b[49m\u001b[43mkey\u001b[49m\u001b[43m,\u001b[49m\u001b[43m \u001b[49m\u001b[38;5;124;43m\"\u001b[39;49m\u001b[38;5;124;43mcolumns\u001b[39;49m\u001b[38;5;124;43m\"\u001b[39;49m\u001b[43m)\u001b[49m[\u001b[38;5;241m1\u001b[39m]\n\u001b[0;32m   3513\u001b[0m \u001b[38;5;66;03m# take() does not accept boolean indexers\u001b[39;00m\n\u001b[0;32m   3514\u001b[0m \u001b[38;5;28;01mif\u001b[39;00m \u001b[38;5;28mgetattr\u001b[39m(indexer, \u001b[38;5;124m\"\u001b[39m\u001b[38;5;124mdtype\u001b[39m\u001b[38;5;124m\"\u001b[39m, \u001b[38;5;28;01mNone\u001b[39;00m) \u001b[38;5;241m==\u001b[39m \u001b[38;5;28mbool\u001b[39m:\n",
      "File \u001b[1;32m~\\anaconda3\\lib\\site-packages\\pandas\\core\\indexes\\base.py:5782\u001b[0m, in \u001b[0;36mIndex._get_indexer_strict\u001b[1;34m(self, key, axis_name)\u001b[0m\n\u001b[0;32m   5779\u001b[0m \u001b[38;5;28;01melse\u001b[39;00m:\n\u001b[0;32m   5780\u001b[0m     keyarr, indexer, new_indexer \u001b[38;5;241m=\u001b[39m \u001b[38;5;28mself\u001b[39m\u001b[38;5;241m.\u001b[39m_reindex_non_unique(keyarr)\n\u001b[1;32m-> 5782\u001b[0m \u001b[38;5;28;43mself\u001b[39;49m\u001b[38;5;241;43m.\u001b[39;49m\u001b[43m_raise_if_missing\u001b[49m\u001b[43m(\u001b[49m\u001b[43mkeyarr\u001b[49m\u001b[43m,\u001b[49m\u001b[43m \u001b[49m\u001b[43mindexer\u001b[49m\u001b[43m,\u001b[49m\u001b[43m \u001b[49m\u001b[43maxis_name\u001b[49m\u001b[43m)\u001b[49m\n\u001b[0;32m   5784\u001b[0m keyarr \u001b[38;5;241m=\u001b[39m \u001b[38;5;28mself\u001b[39m\u001b[38;5;241m.\u001b[39mtake(indexer)\n\u001b[0;32m   5785\u001b[0m \u001b[38;5;28;01mif\u001b[39;00m \u001b[38;5;28misinstance\u001b[39m(key, Index):\n\u001b[0;32m   5786\u001b[0m     \u001b[38;5;66;03m# GH 42790 - Preserve name from an Index\u001b[39;00m\n",
      "File \u001b[1;32m~\\anaconda3\\lib\\site-packages\\pandas\\core\\indexes\\base.py:5845\u001b[0m, in \u001b[0;36mIndex._raise_if_missing\u001b[1;34m(self, key, indexer, axis_name)\u001b[0m\n\u001b[0;32m   5842\u001b[0m     \u001b[38;5;28;01mraise\u001b[39;00m \u001b[38;5;167;01mKeyError\u001b[39;00m(\u001b[38;5;124mf\u001b[39m\u001b[38;5;124m\"\u001b[39m\u001b[38;5;124mNone of [\u001b[39m\u001b[38;5;132;01m{\u001b[39;00mkey\u001b[38;5;132;01m}\u001b[39;00m\u001b[38;5;124m] are in the [\u001b[39m\u001b[38;5;132;01m{\u001b[39;00maxis_name\u001b[38;5;132;01m}\u001b[39;00m\u001b[38;5;124m]\u001b[39m\u001b[38;5;124m\"\u001b[39m)\n\u001b[0;32m   5844\u001b[0m not_found \u001b[38;5;241m=\u001b[39m \u001b[38;5;28mlist\u001b[39m(ensure_index(key)[missing_mask\u001b[38;5;241m.\u001b[39mnonzero()[\u001b[38;5;241m0\u001b[39m]]\u001b[38;5;241m.\u001b[39munique())\n\u001b[1;32m-> 5845\u001b[0m \u001b[38;5;28;01mraise\u001b[39;00m \u001b[38;5;167;01mKeyError\u001b[39;00m(\u001b[38;5;124mf\u001b[39m\u001b[38;5;124m\"\u001b[39m\u001b[38;5;132;01m{\u001b[39;00mnot_found\u001b[38;5;132;01m}\u001b[39;00m\u001b[38;5;124m not in index\u001b[39m\u001b[38;5;124m\"\u001b[39m)\n",
      "\u001b[1;31mKeyError\u001b[0m: \"['2. To which gender identity do you most identify?'] not in index\""
     ]
    }
   ],
   "source": [
    "df = df[['1. How old are you?',\n",
    "         '2. To which gender identity do you most identify?',\n",
    "         '62. On average, how many hours do you listen to music per day?', \n",
    "         '68. Which social media platforms do you use most often?', \n",
    "         '69. What is your favorite genre of music?', \n",
    "         '70. In which of the following situations do you listen to music?', \n",
    "         '71. Which music streaming service do you use the most?']]\n",
    "df = df.rename(columns={'1. How old are you?': 'Age', \n",
    "                        '2. To which gender identity do you most identify?': 'Gender', \n",
    "                        '62. On average, how many hours do you listen to music per day?': 'Daily_Music_Consumption', \n",
    "                        '68. Which social media platforms do you use most often?': 'Preferred_Social_Medias', \n",
    "                        '69. What is your favorite genre of music?': 'Music_Genre', \n",
    "                        '70. In which of the following situations do you listen to music?': 'Occasion', \n",
    "                        '71. Which music streaming service do you use the most?': 'Preferred_Music_Platform'})\n",
    "df.loc[~df['Gender'].isin(['Man', 'Woman']), 'Gender'] = 'Other'\n",
    "df.loc[df['Music_Genre'] == \"Breakcore\", 'Music_Genre'] = \"Electronic\"\n",
    "df.loc[df['Music_Genre'] == \"Bladee\", 'Music_Genre'] = \"Hip Hop / Rap\"\n",
    "df.loc[df['Music_Genre'] == \"Funk\", 'Music_Genre'] = \"Pop\"\n",
    "df.loc[df['Music_Genre'] == \"House\", 'Music_Genre'] = \"Electronic\"\n",
    "df.loc[df['Music_Genre'] == \"I have no favorite\", 'Music_Genre'] = \"No preference\"\n",
    "df.loc[df['Music_Genre'] == \"Lofi\", 'Music_Genre'] = \"Other\""
   ]
  },
  {
   "cell_type": "code",
   "execution_count": null,
   "id": "83fbde04",
   "metadata": {},
   "outputs": [],
   "source": [
    "df.loc[df['Music_Genre'] == \"Most genres like anime, jpop, edm, hip hop, kpop, pop, r&b, lofi\", 'Music_Genre'] = \"Anime / Jpop\"\n",
    "df.loc[df['Music_Genre'] == \"Musical Theater\", 'Music_Genre'] = \"Other\"\n",
    "df.loc[df['Music_Genre'] == \"Phonk\", 'Music_Genre'] = \"Electronic\"\n",
    "df.loc[df['Music_Genre'] == \"Salsa music\", 'Music_Genre'] = \"Other\"\n",
    "df.loc[df['Music_Genre'] == \"Soundtrack \", 'Music_Genre'] = \"Other\"\n",
    "df.loc[df['Music_Genre'] == \"Video Game\", 'Music_Genre'] = \"Other\"\n",
    "df.loc[df['Music_Genre'] == \"any, whatever sounds good to my ear\", 'Music_Genre'] = \"No preference\"\n",
    "df.loc[df['Music_Genre'] == \"electronic pop \", 'Music_Genre'] = \"Electronic\"\n",
    "df.loc[df['Music_Genre'] == \"idk\", 'Music_Genre'] = \"No preference\"\n",
    "df.loc[df['Music_Genre'] == \"indie pop\", 'Music_Genre'] = \"Indie / Alternative\"\n",
    "df.loc[df['Music_Genre'] == \"multi\", 'Music_Genre'] = \"Other\"\n",
    "df = df[df['Daily_Music_Consumption'] <= 24]\n",
    "def categorize_hours(hours):\n",
    "    if hours <= 2:\n",
    "        return '0-2'\n",
    "    elif hours <= 5:\n",
    "        return '3-5'\n",
    "    elif hours <= 8:\n",
    "        return '6-8'\n",
    "    else:\n",
    "        return '8+'\n",
    "\n",
    "df['Hours_Cohort'] = df['Daily_Music_Consumption'].apply(categorize_hours)\n",
    "\n",
    "def categorize_age(ages):\n",
    "    if ages <= 20:\n",
    "        return '19 to 20'\n",
    "    elif ages <= 22:\n",
    "        return '21 to 22'\n",
    "    elif ages <= 24:\n",
    "        return '23 to 24'\n",
    "    else:\n",
    "        return '24+'\n",
    "df['Age_Cohort'] = df['Age'].apply(categorize_age)"
   ]
  },
  {
   "cell_type": "code",
   "execution_count": null,
   "id": "9a0a9268",
   "metadata": {},
   "outputs": [],
   "source": [
    "# nab all Reddit users\n",
    "sm = df[df[\"Preferred_Social_Medias\"].str.contains(\"Reddit\", na=False)]\n",
    "sm.reset_index()\n",
    "print(sm.groupby(\"Music_Genre\")[\"Age\"].count().plot.bar())\n",
    "#######\n",
    "##Breakdown of Prefered Genre by Gender(notice Rap vs Indie )\n",
    "table_4 = pd.pivot_table(data = df, values = 'Age', columns = 'Music_Genre', index = 'Gender', aggfunc = 'count' )\n",
    "table_4.loc [ [ 'Man' , 'Woman', 'Other'  ] ].plot(kind = 'bar')\n",
    "\n",
    "##Vast majority of responses contain Instagram \n",
    "tmp = df['Preferred_Social_Medias'].astype(\"string\").str[0];\n",
    "\n",
    "tmp.value_counts().nlargest(7)"
   ]
  },
  {
   "cell_type": "code",
   "execution_count": null,
   "id": "11a0281c",
   "metadata": {},
   "outputs": [],
   "source": [
    "##Getting rid of redundant platforms, less than 5 people chose the omitted platforms \n",
    "df2=df.query(\"Preferred_Music_Platform != ('Amazon Prime Music', 'Soundcloud', 'Pandora')\")\n",
    "##Music Platform vs Genre, probably nothing here \n",
    "table_5 = pd.pivot_table(data = df2, values = 'Age', columns = 'Preferred_Music_Platform', index = 'Music_Genre', aggfunc = 'count' )\n",
    "table_5.loc [ [ 'Electronic' , 'Hip Hop / Rap' , 'Kpop' , 'Metal', 'No preference', 'Pop' , 'Rock', 'Indie / Alternative', 'Anime / Jpop',    ] ].plot(kind = 'bar')\n",
    "##Age vs Genre preferrence \n",
    "table_6 = pd.pivot_table(data = df, values = 'Age', columns = 'Age_Cohort', index = 'Music_Genre', aggfunc = 'count' )\n",
    "table_6.loc [ [ 'Electronic' , 'Hip Hop / Rap' , 'Kpop' , 'Metal', 'No preference', 'Pop' , 'Rock', 'Indie / Alternative', 'Anime / Jpop',    ] ].plot(kind = 'bar')"
   ]
  },
  {
   "cell_type": "markdown",
   "id": "0de2e26c",
   "metadata": {},
   "source": [
    "**ANALYSIS OF AGE AND HOURS SPENT LISTENING TO MUSIC**<br>\n",
    "\n",
    "**Below is a chart which pairs age with hours spent listening to music. At a glance, it seems to demonstrate a negative correlation between the two variables. Notice that the oldest cohort does not report listening to more than 8 hours of music per day. It seems that the older a respondant is, the lower their daily music consumption will be.**"
   ]
  },
  {
   "cell_type": "code",
   "execution_count": null,
   "id": "da64d033",
   "metadata": {},
   "outputs": [],
   "source": [
    "##Hours vs age cohort, there is a slight negative correlation between Age and Hours\n",
    "table_7 = pd.pivot_table(data = df, values = 'Age', columns = 'Age_Cohort', index = 'Hours_Cohort', aggfunc = 'count' )\n",
    "table_7.plot(kind = 'bar')"
   ]
  },
  {
   "cell_type": "markdown",
   "id": "03efbcf6",
   "metadata": {},
   "source": [
    "**ANALYSIS OF AGE AND HOURS SPENT LISTENING TO MUSIC**<br>\n",
    "\n",
    "**We can show the raw numbers better in a pivot table hilighting the two varibles. It seems here as well that the older repondants reported less music consumption per day. We concede that the number of older repondants is dwarfed by the younger cohorts. In the following cells, we take the joint probability and visualize it on a heat map to gain further insight.**"
   ]
  },
  {
   "cell_type": "code",
   "execution_count": null,
   "id": "3c520c7d",
   "metadata": {},
   "outputs": [],
   "source": [
    "Hours_Age_counts = df.pivot_table(\n",
    "    index=\"Age_Cohort\", columns=\"Hours_Cohort\",\n",
    "    values=\"Age\",  # We can pretty much count any column, as long as there are no NaNs.\n",
    "    aggfunc=\"count\", # The count function will count the number of non-null values.\n",
    "    fill_value=0\n",
    "    \n",
    ")\n",
    "Hours_Age_counts"
   ]
  },
  {
   "cell_type": "code",
   "execution_count": null,
   "id": "66ca7595",
   "metadata": {},
   "outputs": [],
   "source": [
    "print(Hours_Age_counts.sum().sum())\n",
    "joint = Hours_Age_counts / Hours_Age_counts.sum().sum()\n",
    "joint"
   ]
  },
  {
   "cell_type": "code",
   "execution_count": null,
   "id": "cccd4442",
   "metadata": {},
   "outputs": [],
   "source": [
    "joint.sum(axis=1)"
   ]
  },
  {
   "cell_type": "code",
   "execution_count": null,
   "id": "e1f0911f",
   "metadata": {},
   "outputs": [],
   "source": [
    "joint.sum(axis=0)"
   ]
  },
  {
   "cell_type": "code",
   "execution_count": null,
   "id": "8a704180",
   "metadata": {},
   "outputs": [],
   "source": [
    "pd.crosstab(df.Age_Cohort, df.Hours_Cohort,\n",
    "            normalize=True, margins=True)"
   ]
  },
  {
   "cell_type": "markdown",
   "id": "61ee5927",
   "metadata": {},
   "source": [
    "**ANALYSIS OF AGE AND HOURS SPENT LISTENING TO MUSIC**<br>\n",
    "\n",
    "**Below we have a heat map of the joint probability. Note that given a random survey respondant, they are most likely a 19-20 year old who listens to 0-2 hours of music per day. That is to say, they are the largest subgroup of respondants shown on the heat map. Generally, it seems that you have a very low probability of being in the older cohort and listening to alot of music.**"
   ]
  },
  {
   "cell_type": "code",
   "execution_count": null,
   "id": "eb98e046",
   "metadata": {},
   "outputs": [],
   "source": [
    "import seaborn as sns\n",
    "\n",
    "sns.heatmap(joint)"
   ]
  },
  {
   "cell_type": "markdown",
   "id": "e7796318",
   "metadata": {},
   "source": [
    "**ANALYSIS OF AGE AND HOURS SPENT LISTENING TO MUSIC**<br>\n",
    "\n",
    "**Here we examine the conditional probability between the hours and age cohorts. We calculate the probability of one variable given the other and represent that data with a stacked bar graph.**"
   ]
  },
  {
   "cell_type": "code",
   "execution_count": null,
   "id": "ba853f9e",
   "metadata": {},
   "outputs": [],
   "source": [
    "Hours_counts = Hours_Age_counts.sum(axis=1)\n",
    "Hours_Given_Age = Hours_Age_counts.divide(Hours_counts, axis=0)\n",
    "Hours_Given_Age"
   ]
  },
  {
   "cell_type": "markdown",
   "id": "ba6fceb7",
   "metadata": {},
   "source": [
    "**ANALYSIS OF AGE AND HOURS SPENT LISTENING TO MUSIC**<br>\n",
    "\n",
    "**Here it seems abundantly clear that older respondants spend less time listening to music. There is a zero percent chance that a person 23+ is listening to more than 8 hours of music. We also see that the older cohorts are more likley to report the lowest number of hours listening to music.**"
   ]
  },
  {
   "cell_type": "code",
   "execution_count": null,
   "id": "101e9e2f",
   "metadata": {},
   "outputs": [],
   "source": [
    "Hours_Given_Age.plot.bar(stacked=True)"
   ]
  },
  {
   "cell_type": "markdown",
   "id": "206d6a30",
   "metadata": {},
   "source": [
    "**ANALYSIS OF AGE AND HOURS SPENT LISTENING TO MUSIC**<br>\n",
    "\n",
    "**Our initial exploration of the data seems to indicate that these two variables are related. Our hypothesis is that music consumption is negativley correlated with the age of the survey respondant. We will test this hypotheis using the pearson correlation test and the chi-squared test.**"
   ]
  },
  {
   "cell_type": "code",
   "execution_count": null,
   "id": "bcd64c3a",
   "metadata": {},
   "outputs": [],
   "source": [
    "# calculate the pearson's correlation between Age and Music Consumption\n",
    "df.Daily_Music_Consumption.corr(df.Age, method = 'pearson')"
   ]
  },
  {
   "cell_type": "markdown",
   "id": "71023a8c",
   "metadata": {},
   "source": [
    "**ANALYSIS OF AGE AND HOURS SPENT LISTENING TO MUSIC**<br>\n",
    "\n",
    "**The pearson correlation coefficient (r) is about -0.145, indicating a weak negative correlation between age and music consumption. This does not look brilliant for our hypothesis but a weak corelation is still indicated. The chi squared test will indicate if our findings are statistically relevant.**"
   ]
  },
  {
   "cell_type": "code",
   "execution_count": null,
   "id": "9ff908fd",
   "metadata": {},
   "outputs": [],
   "source": [
    "Hours_Age_counts"
   ]
  },
  {
   "cell_type": "markdown",
   "id": "52ed188c",
   "metadata": {},
   "source": [
    "**ANALYSIS OF AGE AND HOURS SPENT LISTENING TO MUSIC**<br>\n",
    "\n",
    "**Our null hypothesis is that Age and Music Consumption are independent. With 4 rows and 4 columns in our dataset, we have that (R-1)(C-1) = 9 degrees of freedom. We have a p vlue of 0.1585 meaning that this chi squared value would occurr by chance about 15% of the time. Convention states that we should use a significance level of 0.05 to determine the critical value. With 9 degrees of freedom, our critical value is 16.919. Since our chi squared value is 13.09, and less than the critical value, we cannot reject the null hypothesis. Based on this test, these two variables are independent.**"
   ]
  },
  {
   "cell_type": "code",
   "execution_count": null,
   "id": "1f22f4cb",
   "metadata": {},
   "outputs": [],
   "source": [
    "from scipy.stats import chi2_contingency\n",
    "chi, p, dfree, expected = chi2_contingency(Hours_Age_counts)\n",
    "print(\"calculated chi square value: \" ,chi)\n",
    "print(\"calculated p value: \" ,p)\n",
    "print(\"degree of freedom: \", dfree)\n",
    "##So We need an alpha value of 0.1585 to reject the null hypothesis. Since convention seems to indicate that\n",
    "#an alpha of 0.05 should be used, We cannot reject the null hypothesis, meaning that the variables are independent. "
   ]
  },
  {
   "cell_type": "code",
   "execution_count": null,
   "id": "d920626b",
   "metadata": {},
   "outputs": [],
   "source": [
    "##Heat map\n",
    "r=df.corr()\n",
    "r\n",
    "\n",
    "sns.heatmap(r, center= 0, cmap = \"coolwarm\",annot= True)\n",
    "plt.show()"
   ]
  },
  {
   "cell_type": "code",
   "execution_count": null,
   "id": "e6b1c22f",
   "metadata": {},
   "outputs": [],
   "source": [
    "Medias_Genre_counts = df.pivot_table(\n",
    "    index=\"Preferred_Social_Medias\", columns=\"Music_Genre\",\n",
    "    values=\"Age\",  # We can pretty much count any column, as long as there are no NaNs.\n",
    "    aggfunc=\"count\" # The count function will count the number of non-null values.\n",
    ")\n",
    "Medias_Genre_counts"
   ]
  },
  {
   "cell_type": "code",
   "execution_count": null,
   "id": "48464825",
   "metadata": {},
   "outputs": [],
   "source": [
    "counts = pd.crosstab(df.Preferred_Social_Medias, df.Music_Genre)\n",
    "counts\n",
    "#print(counts.sum().sum())\n",
    "#joint = counts / counts.sum().sum()\n",
    "#joint"
   ]
  },
  {
   "cell_type": "code",
   "execution_count": null,
   "id": "2e9c7f29",
   "metadata": {},
   "outputs": [],
   "source": [
    "print(counts.sum().sum())\n",
    "joint = counts / counts.sum().sum()\n",
    "joint"
   ]
  },
  {
   "cell_type": "code",
   "execution_count": null,
   "id": "e1efa728",
   "metadata": {},
   "outputs": [],
   "source": []
  },
  {
   "cell_type": "code",
   "execution_count": null,
   "id": "303e6127",
   "metadata": {},
   "outputs": [],
   "source": []
  }
 ],
 "metadata": {
  "colab": {
   "provenance": []
  },
  "kernelspec": {
   "display_name": "Python 3 (ipykernel)",
   "language": "python",
   "name": "python3"
  },
  "language_info": {
   "codemirror_mode": {
    "name": "ipython",
    "version": 3
   },
   "file_extension": ".py",
   "mimetype": "text/x-python",
   "name": "python",
   "nbconvert_exporter": "python",
   "pygments_lexer": "ipython3",
   "version": "3.9.12"
  }
 },
 "nbformat": 4,
 "nbformat_minor": 5
}
