{
 "cells": [
  {
   "cell_type": "markdown",
   "id": "ff8c4caf",
   "metadata": {},
   "source": [
    "**TOPIC: a**<br>\n",
    "**Questions**<br>\n",
    "**1. What data do you have?**<br>\n",
    "answer<br><br>\n",
    "**2. What would you like to know?**<br>\n",
    "answer<br><br>\n",
    "**3. Explore the data.**<br>\n",
    "Generate statistics and perform visualizations. Explain what you are computing (mean, SD, ...), and then\n",
    "compute using Python. Create some visualizations (at least 8, and at least 6\n",
    "must be of different types); use Python.<br><br>\n",
    "**4. Can you state any hypotheses or make predictions? Which tests can you apply to\n",
    "verify your hypothesis? State clearly each of your hypotheses (at least 3).**<br>\n",
    "answer<br><br>\n",
    "**5. Test your hypotheses.**<br>\n",
    "Test your hypotheses and predictions (use at least 2 different\n",
    "tests). For each: i) describe the test you are using; ii) perform it; iii) analyze\n",
    "the results and draw the conclusion. You must perform correlation analysis and chi-squared test.\n"
   ]
  },
  {
   "cell_type": "code",
   "execution_count": null,
   "id": "2d707c4f",
   "metadata": {},
   "outputs": [],
   "source": [
    "import pandas as pd\n",
    "import matplotlib.pyplot as plt\n",
    "import numpy as np\n",
    "import seaborn as sns\n",
    "import waterfall_chart as wfc\n",
    "from scipy.stats import chi2_contingency\n",
    "from scipy.stats import chi2\n"
   ]
  },
  {
   "cell_type": "code",
   "execution_count": null,
   "id": "d1a81370",
   "metadata": {},
   "outputs": [],
   "source": []
  }
 ],
 "metadata": {
  "colab": {
   "provenance": []
  },
  "kernelspec": {
   "display_name": "Python 3 (ipykernel)",
   "language": "python",
   "name": "python3"
  },
  "language_info": {
   "codemirror_mode": {
    "name": "ipython",
    "version": 3
   },
   "file_extension": ".py",
   "mimetype": "text/x-python",
   "name": "python",
   "nbconvert_exporter": "python",
   "pygments_lexer": "ipython3",
   "version": "3.9.7"
  }
 },
 "nbformat": 4,
 "nbformat_minor": 5
}
